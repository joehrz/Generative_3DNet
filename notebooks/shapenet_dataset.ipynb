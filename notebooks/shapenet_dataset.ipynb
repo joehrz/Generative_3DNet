{
 "cells": [
  {
   "cell_type": "code",
   "execution_count": null,
   "metadata": {},
   "outputs": [],
   "source": [
    "import numpy as np\n",
    "import matplotlib.pyplot as plt\n",
    "import open3d as o3d\n",
    "import os\n",
    "\n",
    "notebook_dir = os.getcwd()\n",
    "parent_dir = os.path.dirname(notebook_dir)"
   ]
  },
  {
   "cell_type": "code",
   "execution_count": null,
   "metadata": {},
   "outputs": [],
   "source": [
    "file_name = os.path.join(parent_dir, 'shape_net_data', 'splits', 'train', '1a38407b3036795d19fb4103277a6b93_8x8.npz')\n",
    "generated_file = np.load(file_name)\n",
    "d_points = generated_file['points']\n",
    "d_points\n",
    "\n",
    "\n",
    "\n",
    "print(d_points.shape)\n",
    "\n",
    "\n",
    "# Visualize the point cloud\n",
    "pcd = o3d.geometry.PointCloud()\n",
    "pcd.points = o3d.utility.Vector3dVector(d_points)\n",
    "o3d.visualization.draw_geometries([pcd])"
   ]
  },
  {
   "cell_type": "code",
   "execution_count": null,
   "metadata": {},
   "outputs": [],
   "source": [
    "# Assuming d_points is an (N, 3) array:\n",
    "print(\"Min per axis:\", d_points.min(axis=0))\n",
    "print(\"Max per axis:\", d_points.max(axis=0))\n",
    "\n",
    "# Or to see overall bounds:\n",
    "print(\"Overall min:\", d_points.min())\n",
    "print(\"Overall max:\", d_points.max())"
   ]
  },
  {
   "cell_type": "code",
   "execution_count": null,
   "metadata": {},
   "outputs": [],
   "source": [
    "# Compute min and max per axis:\n",
    "min_val = d_points.min(axis=0)\n",
    "max_val = d_points.max(axis=0)\n",
    "range_val = max_val - min_val\n",
    "\n",
    "# Normalize each axis independently:\n",
    "d_points_normalized = (d_points - min_val) / range_val\n",
    "\n",
    "print(\"Normalized min per axis:\", d_points_normalized.min(axis=0))\n",
    "print(\"Normalized max per axis:\", d_points_normalized.max(axis=0))"
   ]
  },
  {
   "cell_type": "code",
   "execution_count": null,
   "metadata": {},
   "outputs": [],
   "source": [
    "def normalize_points(points, per_axis=True):\n",
    "    \"\"\"\n",
    "    Normalize a point cloud so that the coordinates lie in the [0, 1] range.\n",
    "    \n",
    "    Args:\n",
    "        points (np.ndarray): Input point cloud of shape (N, 3).\n",
    "        per_axis (bool): If True, normalize each axis independently.\n",
    "                         If False, normalize using the overall min and max.\n",
    "    \n",
    "    Returns:\n",
    "        np.ndarray: The normalized point cloud of shape (N, 3).\n",
    "    \"\"\"\n",
    "    if per_axis:\n",
    "        # Compute min and max for each axis (x, y, z)\n",
    "        min_vals = points.min(axis=0)\n",
    "        max_vals = points.max(axis=0)\n",
    "        range_vals = max_vals - min_vals\n",
    "        # Prevent division by zero if range is zero on any axis\n",
    "        range_vals[range_vals == 0] = 1.0\n",
    "        normalized = (points - min_vals) / range_vals\n",
    "    else:\n",
    "        overall_min = points.min()\n",
    "        overall_max = points.max()\n",
    "        overall_range = overall_max - overall_min\n",
    "        if overall_range == 0:\n",
    "            overall_range = 1.0\n",
    "        normalized = (points - overall_min) / overall_range\n",
    "    return normalized\n",
    "\n"
   ]
  },
  {
   "cell_type": "code",
   "execution_count": null,
   "metadata": {},
   "outputs": [],
   "source": [
    "\n",
    "\n",
    "# plot the normalized points as histogram\n",
    "fig = plt.figure()\n",
    "ax = fig.add_subplot(111, projection='3d')\n",
    "ax.scatter(d_points[:, 0], d_points[:, 1], d_points[:, 2])\n",
    "plt.show()\n",
    "\n",
    "# plot histogram of the normalized points\n",
    "fig = plt.figure()\n",
    "ax = fig.add_subplot(111)\n",
    "ax.hist(d_points, bins=50, histtype='step', label=['x', 'y', 'z'])\n",
    "ax.legend()\n",
    "plt.show()\n",
    "\n"
   ]
  }
 ],
 "metadata": {
  "kernelspec": {
   "display_name": "Python 3",
   "language": "python",
   "name": "python3"
  },
  "language_info": {
   "codemirror_mode": {
    "name": "ipython",
    "version": 3
   },
   "file_extension": ".py",
   "mimetype": "text/x-python",
   "name": "python",
   "nbconvert_exporter": "python",
   "pygments_lexer": "ipython3",
   "version": "3.10.11"
  }
 },
 "nbformat": 4,
 "nbformat_minor": 2
}
