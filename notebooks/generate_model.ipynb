{
 "cells": [
  {
   "cell_type": "code",
   "execution_count": null,
   "metadata": {},
   "outputs": [],
   "source": [
    "import numpy as np\n",
    "import matplotlib.pyplot as plt\n",
    "import open3d as o3d\n",
    "import os\n",
    "\n",
    "notebook_dir = os.getcwd()\n",
    "parent_dir = os.path.dirname(notebook_dir)\n",
    "parent_dir "
   ]
  },
  {
   "cell_type": "code",
   "execution_count": null,
   "metadata": {},
   "outputs": [],
   "source": [
    "file_name = os.path.join(parent_dir, \"data\", \"Sorghum_Plants_Point_Cloud_Data\", \"processed\", \"labeled_plant01.npz\")\n",
    "generated_file = np.load(file_name)\n",
    "d_points = generated_file['points']\n",
    "d_points\n",
    "\n",
    "\n",
    "\n",
    "print(d_points.shape)\n",
    "\n",
    "\n",
    "# Visualize the point cloud\n",
    "pcd = o3d.geometry.PointCloud()\n",
    "pcd.points = o3d.utility.Vector3dVector(d_points)\n",
    "o3d.visualization.draw_geometries([pcd])\n"
   ]
  },
  {
   "cell_type": "code",
   "execution_count": null,
   "metadata": {},
   "outputs": [],
   "source": [
    "generated_filename  = os.path.join(parent_dir, \"models\", \"checkpoints\", \"generated_points.npz\")\n",
    "generated_file = np.load(generated_filename)\n",
    "generated_points = generated_file['points']\n",
    "\n",
    "print(generated_file.files)\n",
    "\n",
    "# Extract x, y, z points from the generated points for the first set\n",
    "gen_points = generated_points[2]\n",
    "\n",
    "# Stack the x, y, z points into a single numpy array\n",
    "#points = np.stack((x_points_1, y_points_1, z_points_1), axis=-1)\n",
    "#print(points)\n",
    "# Create an Open3D point cloud from the numpy array\n",
    "generated_pcd = o3d.geometry.PointCloud()\n",
    "generated_pcd.points = o3d.utility.Vector3dVector(gen_points)\n",
    "\n",
    "# Visualize the point cloud using Open3D\n",
    "o3d.visualization.draw_geometries([generated_pcd])\n",
    "\n",
    "\n",
    "# plot the normalized points as histogram\n",
    "fig = plt.figure()\n",
    "ax = fig.add_subplot(111, projection='3d')\n",
    "ax.scatter(gen_points[:, 0], gen_points[:, 1], gen_points[:, 2])\n",
    "plt.show()\n",
    "\n",
    "# plot histogram of the normalized points\n",
    "fig = plt.figure()\n",
    "ax = fig.add_subplot(111)\n",
    "ax.hist(gen_points, bins=50, histtype='step', label=['x', 'y', 'z'])\n",
    "ax.legend()\n",
    "plt.show()\n",
    "\n",
    "# Assuming d_points is an (N, 3) array:\n",
    "print(\"Min per axis:\", gen_points.min(axis=0))\n",
    "print(\"Max per axis:\", gen_points.max(axis=0))\n",
    "\n",
    "# Or to see overall bounds:\n",
    "print(\"Overall min:\", gen_points.min())\n",
    "print(\"Overall max:\", gen_points.max())\n"
   ]
  },
  {
   "cell_type": "code",
   "execution_count": null,
   "metadata": {},
   "outputs": [],
   "source": [
    "# Want to see 5 random shapes from the batch:\n",
    "num_to_visualize = min(4, len(generated_points))\n",
    "indices = np.random.choice(len(generated_points), num_to_visualize, replace=False)\n",
    "\n",
    "for idx in indices:\n",
    "    gen_pts = generated_points[idx]\n",
    "    pcd = o3d.geometry.PointCloud()\n",
    "    pcd.points = o3d.utility.Vector3dVector(gen_pts)\n",
    "    \n",
    "    print(f\"Shape Index: {idx}\")\n",
    "    print(\"Min axis:\", gen_pts.min(axis=0))\n",
    "    print(\"Max axis:\", gen_pts.max(axis=0))\n",
    "    \n",
    "    # Visualize\n",
    "    o3d.visualization.draw_geometries([pcd])"
   ]
  }
 ],
 "metadata": {
  "kernelspec": {
   "display_name": "Python 3",
   "language": "python",
   "name": "python3"
  },
  "language_info": {
   "codemirror_mode": {
    "name": "ipython",
    "version": 3
   },
   "file_extension": ".py",
   "mimetype": "text/x-python",
   "name": "python",
   "nbconvert_exporter": "python",
   "pygments_lexer": "ipython3",
   "version": "3.10.11"
  }
 },
 "nbformat": 4,
 "nbformat_minor": 2
}
